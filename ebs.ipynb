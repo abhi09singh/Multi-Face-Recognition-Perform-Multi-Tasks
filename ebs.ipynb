{
 "cells": [
  {
   "cell_type": "code",
   "execution_count": null,
   "id": "2f067b6d",
   "metadata": {},
   "outputs": [],
   "source": [
    "import boto3\n",
    "ec2_client=boto3.client(\"ec2\")"
   ]
  },
  {
   "cell_type": "code",
   "execution_count": null,
   "id": "043e23af",
   "metadata": {
    "scrolled": true
   },
   "outputs": [],
   "source": [
    "vol = ec2_client.create_volume(AvailabilityZone='ap-south-1a',\n",
    "      Size=5,               \n",
    "      VolumeType='gp2',\n",
    "      TagSpecifications=[\n",
    "          {\n",
    "              'ResourceType': 'volume',\n",
    "              'Tags': [\n",
    "                  {\n",
    "                      'Key': 'Name',\n",
    "                      'Value': 'TASK6'\n",
    "                  },\n",
    "              ]\n",
    "          },\n",
    "      ],\n",
    "     \n",
    "  )\n"
   ]
  },
  {
   "cell_type": "code",
   "execution_count": null,
   "id": "51200f05",
   "metadata": {},
   "outputs": [],
   "source": [
    "vol"
   ]
  },
  {
   "cell_type": "code",
   "execution_count": null,
   "id": "45fe908f",
   "metadata": {},
   "outputs": [],
   "source": [
    "Volid = vol['VolumeId']"
   ]
  },
  {
   "cell_type": "code",
   "execution_count": null,
   "id": "5d4b885c",
   "metadata": {},
   "outputs": [],
   "source": [
    "Volid"
   ]
  },
  {
   "cell_type": "code",
   "execution_count": null,
   "id": "7b9b3971",
   "metadata": {},
   "outputs": [],
   "source": [
    "type(vol)"
   ]
  },
  {
   "cell_type": "code",
   "execution_count": null,
   "id": "2703156e",
   "metadata": {},
   "outputs": [],
   "source": []
  }
 ],
 "metadata": {
  "kernelspec": {
   "display_name": "Python 3",
   "language": "python",
   "name": "python3"
  },
  "language_info": {
   "codemirror_mode": {
    "name": "ipython",
    "version": 3
   },
   "file_extension": ".py",
   "mimetype": "text/x-python",
   "name": "python",
   "nbconvert_exporter": "python",
   "pygments_lexer": "ipython3",
   "version": "3.8.8"
  }
 },
 "nbformat": 4,
 "nbformat_minor": 5
}
