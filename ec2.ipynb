{
 "cells": [
  {
   "cell_type": "code",
   "execution_count": null,
   "id": "9486b4b1",
   "metadata": {},
   "outputs": [],
   "source": [
    "import boto3\n",
    "ec2_resource=boto3.resource(\"ec2\")"
   ]
  },
  {
   "cell_type": "code",
   "execution_count": null,
   "id": "5be3c27e",
   "metadata": {},
   "outputs": [],
   "source": [
    "instances = ec2_resource.create_instances(ImageId='ami-0ad704c126371a549',\n",
    "      InstanceType='t2.micro',\n",
    "      MaxCount=1,\n",
    "      MinCount=1)\n"
   ]
  },
  {
   "cell_type": "code",
   "execution_count": null,
   "id": "888793fd",
   "metadata": {},
   "outputs": [],
   "source": [
    "inst = instances[0]"
   ]
  },
  {
   "cell_type": "code",
   "execution_count": null,
   "id": "7639c1d1",
   "metadata": {},
   "outputs": [],
   "source": [
    "imgid=inst.id"
   ]
  },
  {
   "cell_type": "code",
   "execution_count": null,
   "id": "a126897c",
   "metadata": {},
   "outputs": [],
   "source": [
    "imgid"
   ]
  },
  {
   "cell_type": "code",
   "execution_count": null,
   "id": "0233a1bb",
   "metadata": {},
   "outputs": [],
   "source": []
  }
 ],
 "metadata": {
  "kernelspec": {
   "display_name": "Python 3",
   "language": "python",
   "name": "python3"
  },
  "language_info": {
   "codemirror_mode": {
    "name": "ipython",
    "version": 3
   },
   "file_extension": ".py",
   "mimetype": "text/x-python",
   "name": "python",
   "nbconvert_exporter": "python",
   "pygments_lexer": "ipython3",
   "version": "3.8.8"
  }
 },
 "nbformat": 4,
 "nbformat_minor": 5
}
