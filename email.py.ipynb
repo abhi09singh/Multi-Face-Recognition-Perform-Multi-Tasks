{
 "cells": [
  {
   "cell_type": "code",
   "execution_count": null,
   "id": "df777e1d",
   "metadata": {},
   "outputs": [],
   "source": [
    "            import smtplib as s\n",
    "            from email.mime.text import MIMEText\n",
    "            from email.mime.image import MIMEImage\n",
    "            from email.mime.multipart import MIMEMultipart\n",
    "            from email import encoders\n",
    "            sender= \"abhi09singhluvmaths@gmail.com\"\n",
    "            receiver=\"abhi09singhrkgit@gmail.com\"\n",
    "            password=\"passwordischangednow\"\n",
    "            subject=\"Intruder detected-SEND HELP ASAP\"\n",
    "            email_body=\"Please check and asure the safety\"\n",
    "            message= MIMEMultipart()\n",
    "            message['From']=sender\n",
    "            message['To']=receiver\n",
    "            message['Subject'] =subject\n",
    "            message.attach(MIMEText(email_body, 'plain'))\n",
    "\n",
    "            server=s.SMTP('smtp.gmail.com',587)\n",
    "            server.starttls()\n",
    "            server.login(sender,password)\n",
    "            text = message.as_string()\n",
    "            server.sendmail(sender, receiver, text)\n",
    "            print('send successfully....')\n",
    "            server.quit()"
   ]
  },
  {
   "cell_type": "code",
   "execution_count": null,
   "id": "bc02fb9c",
   "metadata": {},
   "outputs": [],
   "source": []
  }
 ],
 "metadata": {
  "kernelspec": {
   "display_name": "Python 3",
   "language": "python",
   "name": "python3"
  },
  "language_info": {
   "codemirror_mode": {
    "name": "ipython",
    "version": 3
   },
   "file_extension": ".py",
   "mimetype": "text/x-python",
   "name": "python",
   "nbconvert_exporter": "python",
   "pygments_lexer": "ipython3",
   "version": "3.8.8"
  }
 },
 "nbformat": 4,
 "nbformat_minor": 5
}
