{
 "cells": [
  {
   "cell_type": "code",
   "execution_count": null,
   "id": "a5682ebb",
   "metadata": {},
   "outputs": [],
   "source": [
    "import boto3\n",
    "ec2_resource=boto3.resource(\"ec2\")"
   ]
  },
  {
   "cell_type": "code",
   "execution_count": null,
   "id": "6d3aff89",
   "metadata": {},
   "outputs": [],
   "source": [
    "instances = ec2_resource.create_instances(ImageId='ami-0ad704c126371a549',\n",
    "      InstanceType='t2.micro',\n",
    "      MaxCount=1,\n",
    "      MinCount=1)"
   ]
  },
  {
   "cell_type": "code",
   "execution_count": null,
   "id": "8df12ed7",
   "metadata": {},
   "outputs": [],
   "source": [
    "inst = instances[0]"
   ]
  },
  {
   "cell_type": "code",
   "execution_count": null,
   "id": "00ce7787",
   "metadata": {},
   "outputs": [],
   "source": [
    "imgid=inst.id"
   ]
  },
  {
   "cell_type": "code",
   "execution_count": null,
   "id": "9b327833",
   "metadata": {},
   "outputs": [],
   "source": [
    "imgid"
   ]
  },
  {
   "cell_type": "code",
   "execution_count": null,
   "id": "2f067b6d",
   "metadata": {},
   "outputs": [],
   "source": [
    "import boto3\n",
    "ec2_client=boto3.client(\"ec2\")"
   ]
  },
  {
   "cell_type": "code",
   "execution_count": null,
   "id": "043e23af",
   "metadata": {
    "scrolled": true
   },
   "outputs": [],
   "source": [
    "vol = ec2_client.create_volume(AvailabilityZone='ap-south-1a',\n",
    "      Size=5,               \n",
    "      VolumeType='gp2',\n",
    "      TagSpecifications=[\n",
    "          {\n",
    "              'ResourceType': 'volume',\n",
    "              'Tags': [\n",
    "                  {\n",
    "                      'Key': 'Name',\n",
    "                      'Value': 'TASK6'\n",
    "                  },\n",
    "              ]\n",
    "          },\n",
    "      ],\n",
    "     \n",
    "  )\n"
   ]
  },
  {
   "cell_type": "code",
   "execution_count": null,
   "id": "51200f05",
   "metadata": {},
   "outputs": [],
   "source": [
    "vol"
   ]
  },
  {
   "cell_type": "code",
   "execution_count": null,
   "id": "45fe908f",
   "metadata": {},
   "outputs": [],
   "source": [
    "Volid = vol['VolumeId']"
   ]
  },
  {
   "cell_type": "code",
   "execution_count": null,
   "id": "5d4b885c",
   "metadata": {},
   "outputs": [],
   "source": [
    "Volid"
   ]
  },
  {
   "cell_type": "code",
   "execution_count": null,
   "id": "8b608c11",
   "metadata": {},
   "outputs": [],
   "source": [
    "import time\n",
    "time.sleep(30)"
   ]
  },
  {
   "cell_type": "code",
   "execution_count": null,
   "id": "2703156e",
   "metadata": {},
   "outputs": [],
   "source": [
    "ec2_client.attach_volume(Device='/dev/sdf', InstanceId= imgid, VolumeId= Volid)"
   ]
  },
  {
   "cell_type": "code",
   "execution_count": null,
   "id": "bd736d42",
   "metadata": {},
   "outputs": [],
   "source": []
  }
 ],
 "metadata": {
  "kernelspec": {
   "display_name": "Python 3",
   "language": "python",
   "name": "python3"
  },
  "language_info": {
   "codemirror_mode": {
    "name": "ipython",
    "version": 3
   },
   "file_extension": ".py",
   "mimetype": "text/x-python",
   "name": "python",
   "nbconvert_exporter": "python",
   "pygments_lexer": "ipython3",
   "version": "3.8.8"
  }
 },
 "nbformat": 4,
 "nbformat_minor": 5
}
